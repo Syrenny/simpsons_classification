{
 "cells": [
  {
   "cell_type": "code",
   "execution_count": 1,
   "metadata": {
    "id": "qNVwkyZ_h58V"
   },
   "outputs": [
    {
     "name": "stdout",
     "output_type": "stream",
     "text": [
      "Data loading...\n",
      "3.00s\n",
      "Processing...\n",
      "Epoch: 1\n",
      "Precision: 0.80034\n",
      "Recall: 0.70825\n",
      "Accuracy: 0.99762\n",
      "Time: 58.75s\n",
      "\n",
      "Epoch: 2\n",
      "Precision: 0.84288\n",
      "Recall: 0.77133\n",
      "Accuracy: 0.99765\n",
      "Time: 56.57s\n",
      "\n",
      "Epoch: 3\n",
      "Precision: 0.93483\n",
      "Recall: 0.88273\n",
      "Accuracy: 0.99832\n",
      "Time: 56.11s\n",
      "\n",
      "Epoch: 4\n",
      "Precision: 0.91243\n",
      "Recall: 0.84077\n",
      "Accuracy: 0.99821\n",
      "Time: 56.79s\n",
      "\n",
      "Epoch: 5\n",
      "Precision: 0.96505\n",
      "Recall: 0.84188\n",
      "Accuracy: 0.99815\n",
      "Time: 56.28s\n",
      "\n",
      "Epoch: 6\n",
      "Precision: 0.93896\n",
      "Recall: 0.87195\n",
      "Accuracy: 0.99826\n",
      "Time: 57.04s\n",
      "\n",
      "Epoch: 7\n",
      "Precision: 0.95261\n",
      "Recall: 0.90759\n",
      "Accuracy: 0.99859\n",
      "Time: 55.95s\n",
      "\n",
      "Epoch: 8\n",
      "Precision: 0.94863\n",
      "Recall: 0.91545\n",
      "Accuracy: 0.99843\n",
      "Time: 56.76s\n",
      "\n",
      "Epoch: 9\n",
      "Precision: 0.93499\n",
      "Recall: 0.89527\n",
      "Accuracy: 0.99858\n",
      "Time: 56.18s\n",
      "\n",
      "Epoch: 10\n",
      "Precision: 0.93239\n",
      "Recall: 0.89143\n",
      "Accuracy: 0.99814\n",
      "Time: 56.92s\n",
      "\n",
      "Epoch: 11\n",
      "Precision: 0.93223\n",
      "Recall: 0.91552\n",
      "Accuracy: 0.99864\n",
      "Time: 57.24s\n",
      "\n",
      "Epoch: 12\n",
      "Precision: 0.94261\n",
      "Recall: 0.89341\n",
      "Accuracy: 0.99835\n",
      "Time: 56.42s\n",
      "\n",
      "Epoch: 13\n",
      "Precision: 0.94531\n",
      "Recall: 0.91955\n",
      "Accuracy: 0.99863\n",
      "Time: 56.37s\n",
      "\n",
      "Epoch: 14\n",
      "Precision: 0.95788\n",
      "Recall: 0.91373\n",
      "Accuracy: 0.99851\n",
      "Time: 56.05s\n",
      "\n",
      "Epoch: 15\n",
      "Precision: 0.95844\n",
      "Recall: 0.89737\n",
      "Accuracy: 0.99889\n",
      "Time: 54.65s\n",
      "\n",
      "Epoch: 16\n",
      "Precision: 0.94743\n",
      "Recall: 0.87918\n",
      "Accuracy: 0.99804\n",
      "Time: 57.02s\n",
      "\n",
      "Epoch: 17\n",
      "Precision: 0.95245\n",
      "Recall: 0.91666\n",
      "Accuracy: 0.99864\n",
      "Time: 55.18s\n",
      "\n",
      "Epoch: 18\n",
      "Precision: 0.94497\n",
      "Recall: 0.92160\n",
      "Accuracy: 0.99877\n",
      "Time: 55.54s\n",
      "\n",
      "Epoch: 19\n",
      "Precision: 0.97135\n",
      "Recall: 0.91953\n",
      "Accuracy: 0.99876\n",
      "Time: 55.42s\n",
      "\n",
      "Epoch: 20\n",
      "Precision: 0.94778\n",
      "Recall: 0.91596\n",
      "Accuracy: 0.99838\n",
      "Time: 55.25s\n",
      "\n"
     ]
    }
   ],
   "source": [
    "import sys\n",
    "# sys.path.append('/content/drive/MyDrive/Colab Notebooks')\n",
    "\n",
    "import time\n",
    "import torch\n",
    "import numpy as np\n",
    "import matplotlib.pyplot as plt\n",
    "from torch.utils.tensorboard import SummaryWriter\n",
    "\n",
    "# My modules\n",
    "from optimization import define_optim\n",
    "from model import MyModel\n",
    "from data_load import load_dataset\n",
    "from visualization import plot_loss_history, plot_accuracy_history, my_display_confusion_matrix\n",
    "from metrics import Metrics\n",
    "from testing import final_testing\n",
    "\n",
    "\n",
    "# Configuration\n",
    "config = {\n",
    "    \"batch_size\": 32,\n",
    "    \"num_epochs\": 20,\n",
    "    \"learning_rate\": 3e-4,\n",
    "    \"scheduler_step\": 1,\n",
    "    \"scheduler_gamma\": 0.98,\n",
    "    \"weight_decay\": 8e-4,\n",
    "    \"dropout_p\": 0,\n",
    "    \"num_classes\": None,\n",
    "    \"name_classes\": None,\n",
    "    \"dataset_path\": 'simpsons_dataset',\n",
    "    \"device\": 'cpu'\n",
    "}\n",
    "\n",
    "if __name__ == \"__main__\":\n",
    "    # Dataset folding\n",
    "    print(\"Data loading...\")\n",
    "    \n",
    "    # Creating a loader\n",
    "    start = time.time()\n",
    "    loader, train_set, test_set = load_dataset(config)\n",
    "    config[\"device\"] = torch.device(\"cuda\" if torch.cuda.is_available() else \"cpu\")\n",
    "    \n",
    "    # Model loading\n",
    "    writer = SummaryWriter(\"runs/without_dropout_0\")\n",
    "    writer.add_text(\"config\", str(config), 0)\n",
    "    model = MyModel(config, writer)\n",
    "    \n",
    "    # Define the loss function, optimizer and learning rate scheduler\n",
    "    criterion, optimizer, scheduler = define_optim(model.model, config)\n",
    "    metrics = Metrics(config)\n",
    "    print('{:.2f}s'.format(time.time() - start))\n",
    "    print('Processing...')\n",
    "    \n",
    "    # Main loop\n",
    "    for epoch in range(config[\"num_epochs\"]):\n",
    "        start = time.time()\n",
    "        model.train_step(epoch, loader, optimizer, criterion, scheduler)\n",
    "        model.test_step(epoch, loader, criterion, metrics)\n",
    "        \n",
    "        # Macro average metrics\n",
    "        print('Epoch: {}\\nPrecision: {:.5f}\\nRecall: {:.5f}\\nAccuracy: {:.5f}\\nTime: {:.2f}s\\n'.\n",
    "              format(epoch + 1,\n",
    "                     metrics.precision().mean(),\n",
    "                     metrics.recall().mean(),\n",
    "                     metrics.accuracy().mean(),\n",
    "                     time.time() - start))\n",
    "        writer.add_scalar(\"recall\", metrics.recall().mean(), epoch)\n",
    "        writer.add_scalar(\"precision\", metrics.precision().mean(), epoch)\n",
    "        if epoch != config[\"num_epochs\"] - 1:\n",
    "            metrics.reset_metrics()\n",
    "    model.save(\"runs/mymodel.pth\")\n",
    "\n"
   ]
  },
  {
   "cell_type": "code",
   "execution_count": 2,
   "metadata": {},
   "outputs": [
    {
     "data": {
      "text/plain": [
       "'test_model = model \\nplot_loss_history(test_model.get_loss_history())\\nplot_accuracy_history(test_model.get_accuracy_history())\\nmy_display_confusion_matrix(metrics.get_confusion_matrix(), dataset.classes)\\nfinal_testing(\"runs/mymodel.pth\", dataset.classes, loader, device)\\nplt.show()'"
      ]
     },
     "execution_count": 2,
     "metadata": {},
     "output_type": "execute_result"
    }
   ],
   "source": [
    "'''test_model = model \n",
    "plot_loss_history(test_model.get_loss_history())\n",
    "plot_accuracy_history(test_model.get_accuracy_history())\n",
    "my_display_confusion_matrix(metrics.get_confusion_matrix(), dataset.classes)\n",
    "final_testing(\"runs/mymodel.pth\", dataset.classes, loader, device)\n",
    "plt.show()'''"
   ]
  },
  {
   "cell_type": "code",
   "execution_count": 3,
   "metadata": {},
   "outputs": [
    {
     "name": "stdout",
     "output_type": "stream",
     "text": [
      "[0.99761735 1.         0.99904694 0.99857041 0.99594949 0.99976173\n",
      " 0.99809388 0.99618775 0.99952347 0.99046938 1.         0.99857041\n",
      " 0.99952347 0.99976173 0.99904694 0.99428163 0.99904694 0.99833214\n",
      " 0.99880867 0.9992852  0.99737908 0.99880867 0.99737908 0.99904694\n",
      " 0.99880867 0.99904694 0.9992852  0.99642602 0.99690255 0.99737908\n",
      " 1.         0.99833214 0.99761735 0.99904694 0.9992852  1.\n",
      " 0.99880867 0.99833214 1.         0.9992852  1.         0.99880867]\n"
     ]
    }
   ],
   "source": [
    "print(metrics.accuracy())"
   ]
  },
  {
   "cell_type": "code",
   "execution_count": 4,
   "metadata": {},
   "outputs": [
    {
     "name": "stdout",
     "output_type": "stream",
     "text": [
      "[0.96875    1.         0.98611111 0.75       0.996      0.91666667\n",
      " 0.98190045 0.9408867  0.83333333 1.         1.         0.97777778\n",
      " 1.         0.85714286 0.9        0.96642686 0.99029126 0.98319328\n",
      " 1.         0.57142857 0.97785978 0.79166667 0.96934866 1.\n",
      " 0.92592593 0.99557522 0.66666667 0.96091205 0.96478873 0.93243243\n",
      " 1.         0.6        0.97590361 0.75       0.93333333 1.\n",
      " 0.77777778 0.98245614 1.         0.75       1.         0.89583333]\n"
     ]
    }
   ],
   "source": [
    "print(metrics.recall())"
   ]
  },
  {
   "cell_type": "code",
   "execution_count": 5,
   "metadata": {},
   "outputs": [
    {
     "name": "stdout",
     "output_type": "stream",
     "text": [
      "[0.97894737 1.         0.98611111 0.9375     0.93962264 1.\n",
      " 0.98190045 0.97948718 1.         0.69230769 1.         0.95652174\n",
      " 0.71428571 1.         0.9        0.97578692 0.97142857 0.98734177\n",
      " 0.92424242 1.         0.98148148 1.         0.98828125 0.80952381\n",
      " 0.98039216 0.98684211 0.8        0.98993289 0.98916968 0.92\n",
      " 1.         0.66666667 0.98380567 1.         0.875      1.\n",
      " 0.93333333 0.97674419 1.         1.         1.         1.        ]\n"
     ]
    }
   ],
   "source": [
    "print(metrics.precision())"
   ]
  },
  {
   "cell_type": "code",
   "execution_count": null,
   "metadata": {},
   "outputs": [],
   "source": []
  }
 ],
 "metadata": {
  "accelerator": "GPU",
  "colab": {
   "machine_shape": "hm",
   "provenance": []
  },
  "gpuClass": "premium",
  "kernelspec": {
   "display_name": "isyrennyj_venv",
   "language": "python",
   "name": "isyrennyj_venv"
  },
  "language_info": {
   "codemirror_mode": {
    "name": "ipython",
    "version": 3
   },
   "file_extension": ".py",
   "mimetype": "text/x-python",
   "name": "python",
   "nbconvert_exporter": "python",
   "pygments_lexer": "ipython3",
   "version": "3.8.10"
  }
 },
 "nbformat": 4,
 "nbformat_minor": 4
}
